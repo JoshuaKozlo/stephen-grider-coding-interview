{
 "cells": [
  {
   "cell_type": "markdown",
   "id": "289a09ea",
   "metadata": {},
   "source": [
    "# Notes"
   ]
  },
  {
   "cell_type": "markdown",
   "id": "e304bf08",
   "metadata": {},
   "source": [
    "### Recursion Tips\n",
    "\n",
    "1. Figure out the bare minimum pieces of information to represent your problem\n",
    "2. Give resonable defaults to the bare minimum pieces of info\n",
    "3. Check the base case. Is there any work left to do? If not, return\n",
    "4. Do some work. Call your function again, making sure the arguments have changed in some fashion"
   ]
  },
  {
   "cell_type": "markdown",
   "id": "baff5a10",
   "metadata": {},
   "source": [
    "# String Reversal"
   ]
  },
  {
   "cell_type": "code",
   "execution_count": 5,
   "id": "c7a355c3",
   "metadata": {},
   "outputs": [],
   "source": [
    "s = 'Bananna!'"
   ]
  },
  {
   "cell_type": "code",
   "execution_count": 66,
   "id": "30db9fbf",
   "metadata": {},
   "outputs": [],
   "source": [
    "def reverse1(s):\n",
    "    return s[::-1]"
   ]
  },
  {
   "cell_type": "code",
   "execution_count": 67,
   "id": "180844be",
   "metadata": {},
   "outputs": [
    {
     "data": {
      "text/plain": [
       "'!annanaB'"
      ]
     },
     "execution_count": 67,
     "metadata": {},
     "output_type": "execute_result"
    }
   ],
   "source": [
    "reverse1(s)"
   ]
  },
  {
   "cell_type": "code",
   "execution_count": 36,
   "id": "dbf0e10b",
   "metadata": {},
   "outputs": [],
   "source": [
    "def reverse2(s):\n",
    "    arr = list(s)\n",
    "    arr.reverse()\n",
    "    return ''.join(arr)"
   ]
  },
  {
   "cell_type": "code",
   "execution_count": 38,
   "id": "24cabf4f",
   "metadata": {},
   "outputs": [
    {
     "data": {
      "text/plain": [
       "'!annanaB'"
      ]
     },
     "execution_count": 38,
     "metadata": {},
     "output_type": "execute_result"
    }
   ],
   "source": [
    "reverse2(s)"
   ]
  },
  {
   "cell_type": "code",
   "execution_count": 46,
   "id": "10156ef5",
   "metadata": {},
   "outputs": [],
   "source": [
    "def reverse3(s):\n",
    "    rs = ''\n",
    "    \n",
    "    for l in s:\n",
    "        rs = l + rs\n",
    "    \n",
    "    return rs"
   ]
  },
  {
   "cell_type": "code",
   "execution_count": 47,
   "id": "2b05c776",
   "metadata": {},
   "outputs": [
    {
     "data": {
      "text/plain": [
       "'!annanaB'"
      ]
     },
     "execution_count": 47,
     "metadata": {},
     "output_type": "execute_result"
    }
   ],
   "source": [
    "reverse3(s)"
   ]
  },
  {
   "cell_type": "code",
   "execution_count": 65,
   "id": "b76aceae",
   "metadata": {},
   "outputs": [],
   "source": [
    "import functools\n",
    "\n",
    "def reverse4(s):\n",
    "    return functools.reduce(lambda a, b: b+a, list(s))"
   ]
  },
  {
   "cell_type": "code",
   "execution_count": 64,
   "id": "c600f024",
   "metadata": {
    "scrolled": true
   },
   "outputs": [
    {
     "data": {
      "text/plain": [
       "'!annanaB'"
      ]
     },
     "execution_count": 64,
     "metadata": {},
     "output_type": "execute_result"
    }
   ],
   "source": [
    "reverse4(s)"
   ]
  },
  {
   "cell_type": "markdown",
   "id": "759f02ad",
   "metadata": {},
   "source": [
    "# Palindromes"
   ]
  },
  {
   "cell_type": "code",
   "execution_count": 44,
   "id": "b55200e8",
   "metadata": {},
   "outputs": [],
   "source": [
    "s = 'abcdcba'"
   ]
  },
  {
   "cell_type": "code",
   "execution_count": 7,
   "id": "88af3e26",
   "metadata": {},
   "outputs": [],
   "source": [
    "def palindrome1(s):\n",
    "    return s == s[::-1]"
   ]
  },
  {
   "cell_type": "code",
   "execution_count": 45,
   "id": "9ef94f01",
   "metadata": {},
   "outputs": [
    {
     "data": {
      "text/plain": [
       "True"
      ]
     },
     "execution_count": 45,
     "metadata": {},
     "output_type": "execute_result"
    }
   ],
   "source": [
    "palindrome1(s)"
   ]
  },
  {
   "cell_type": "code",
   "execution_count": 38,
   "id": "46e0e5f4",
   "metadata": {},
   "outputs": [],
   "source": [
    "def palindrome2(s):\n",
    "    return all([x == s[-(i + 1)] for i, x in enumerate(s)])"
   ]
  },
  {
   "cell_type": "code",
   "execution_count": 46,
   "id": "6bdb4386",
   "metadata": {},
   "outputs": [
    {
     "data": {
      "text/plain": [
       "True"
      ]
     },
     "execution_count": 46,
     "metadata": {},
     "output_type": "execute_result"
    }
   ],
   "source": [
    "palindrome2(s)"
   ]
  },
  {
   "cell_type": "markdown",
   "id": "b7f576b5",
   "metadata": {},
   "source": [
    "# Integer Reversal"
   ]
  },
  {
   "cell_type": "code",
   "execution_count": 81,
   "id": "cc2956c0",
   "metadata": {},
   "outputs": [],
   "source": [
    "def reverseInt1(s):\n",
    "    x = int(str(abs(s))[::-1])\n",
    "    \n",
    "    return -x if s < 0 else x\n",
    "    "
   ]
  },
  {
   "cell_type": "code",
   "execution_count": 84,
   "id": "3b8f5987",
   "metadata": {},
   "outputs": [
    {
     "data": {
      "text/plain": [
       "-2021"
      ]
     },
     "execution_count": 84,
     "metadata": {},
     "output_type": "execute_result"
    }
   ],
   "source": [
    "reverseInt1(-1202)"
   ]
  },
  {
   "cell_type": "markdown",
   "id": "c796fa33",
   "metadata": {},
   "source": [
    "# Max Chars"
   ]
  },
  {
   "cell_type": "code",
   "execution_count": 59,
   "id": "b0cc21cd",
   "metadata": {},
   "outputs": [],
   "source": [
    "s = \"aaabbbbaaaaba\""
   ]
  },
  {
   "cell_type": "code",
   "execution_count": 39,
   "id": "693d591c",
   "metadata": {},
   "outputs": [],
   "source": [
    "def max_char1(s):\n",
    "    \n",
    "    chars = {}\n",
    "    \n",
    "    for c in s:\n",
    "        if c in chars:\n",
    "            chars[c] += 1\n",
    "        else:\n",
    "            chars[c] = 1\n",
    "    return max(chars, key=chars.get)"
   ]
  },
  {
   "cell_type": "code",
   "execution_count": 36,
   "id": "cff28936",
   "metadata": {},
   "outputs": [
    {
     "data": {
      "text/plain": [
       "'b'"
      ]
     },
     "execution_count": 36,
     "metadata": {},
     "output_type": "execute_result"
    }
   ],
   "source": [
    "max_char1(s)"
   ]
  },
  {
   "cell_type": "code",
   "execution_count": 55,
   "id": "b7af6a2c",
   "metadata": {},
   "outputs": [],
   "source": [
    "from collections import defaultdict\n",
    "\n",
    "def max_char2(s):\n",
    "    \n",
    "    chars = defaultdict(int)\n",
    "    \n",
    "    for c in s:\n",
    "        chars[c] += 1\n",
    "    \n",
    "    return max(chars, key=chars.get)"
   ]
  },
  {
   "cell_type": "code",
   "execution_count": 58,
   "id": "07890f5e",
   "metadata": {},
   "outputs": [
    {
     "data": {
      "text/plain": [
       "'1'"
      ]
     },
     "execution_count": 58,
     "metadata": {},
     "output_type": "execute_result"
    }
   ],
   "source": [
    "max_char2(s)"
   ]
  },
  {
   "cell_type": "markdown",
   "id": "4604d29b",
   "metadata": {},
   "source": [
    "# FizzBuzz"
   ]
  },
  {
   "cell_type": "code",
   "execution_count": 100,
   "id": "2086bf5f",
   "metadata": {},
   "outputs": [],
   "source": [
    "def fizzbuzz(n):\n",
    "    for i in range(1, n + 1):\n",
    "        fizz = i % 3 == 0\n",
    "        buzz = i % 5 == 0\n",
    "        \n",
    "        if fizz and buzz:\n",
    "            print('fizzbuzz')\n",
    "        elif fizz:\n",
    "            print('fizz')\n",
    "        elif buzz:\n",
    "            print('buzz')\n",
    "        else:\n",
    "            print(i)"
   ]
  },
  {
   "cell_type": "code",
   "execution_count": 101,
   "id": "be7bcacc",
   "metadata": {},
   "outputs": [
    {
     "name": "stdout",
     "output_type": "stream",
     "text": [
      "1\n",
      "2\n",
      "fizz\n",
      "4\n",
      "buzz\n",
      "fizz\n",
      "7\n",
      "8\n",
      "fizz\n",
      "buzz\n",
      "11\n",
      "fizz\n",
      "13\n",
      "14\n",
      "fizzbuzz\n"
     ]
    }
   ],
   "source": [
    "fizzbuzz(15)"
   ]
  },
  {
   "cell_type": "markdown",
   "id": "80f022a8",
   "metadata": {},
   "source": [
    "# Array Chunking"
   ]
  },
  {
   "cell_type": "code",
   "execution_count": 55,
   "id": "6b6c5f1e",
   "metadata": {},
   "outputs": [],
   "source": [
    "l = [1, 2, 3, 4, 5, 6, 7, 8, 9, 10]\n",
    "n = 3"
   ]
  },
  {
   "cell_type": "code",
   "execution_count": 38,
   "id": "1207e5c9",
   "metadata": {},
   "outputs": [],
   "source": [
    "def chunk1(lst, n):    \n",
    "    return [lst[i:i + n] for i in range(0, len(lst), n)]\n",
    "    "
   ]
  },
  {
   "cell_type": "code",
   "execution_count": 39,
   "id": "3bb9f181",
   "metadata": {},
   "outputs": [],
   "source": [
    "def chunk2(lst, n):\n",
    "    for i in range(0, len(lst), n):\n",
    "        yield lst[i: i + n]"
   ]
  },
  {
   "cell_type": "code",
   "execution_count": 53,
   "id": "c3fc6867",
   "metadata": {},
   "outputs": [],
   "source": [
    "def chunk3(lst, n):\n",
    "    chunked = [];\n",
    "    index = 0;\n",
    "    \n",
    "    while index < len(lst):\n",
    "        chunked.append(lst[index: index + n])\n",
    "        index += n\n",
    "    return chunked"
   ]
  },
  {
   "cell_type": "code",
   "execution_count": 56,
   "id": "2f84ce78",
   "metadata": {},
   "outputs": [
    {
     "data": {
      "text/plain": [
       "[[1, 2, 3], [4, 5, 6], [7, 8, 9], [10]]"
      ]
     },
     "execution_count": 56,
     "metadata": {},
     "output_type": "execute_result"
    }
   ],
   "source": [
    "chunk3(l, n)"
   ]
  },
  {
   "cell_type": "code",
   "execution_count": 42,
   "id": "1b608d0b",
   "metadata": {
    "scrolled": true
   },
   "outputs": [
    {
     "data": {
      "text/plain": [
       "[[1, 2], [3, 4], [5, 332], [32]]"
      ]
     },
     "execution_count": 42,
     "metadata": {},
     "output_type": "execute_result"
    }
   ],
   "source": [
    "list(chunk2([1, 2, 3, 4, 5, 332, 32], 2))"
   ]
  },
  {
   "cell_type": "markdown",
   "id": "6e4a4f5a",
   "metadata": {},
   "source": [
    "# Anagrams"
   ]
  },
  {
   "cell_type": "code",
   "execution_count": 72,
   "id": "61b47c58",
   "metadata": {},
   "outputs": [],
   "source": [
    "import re\n",
    "from collections import defaultdict\n",
    "\n",
    "def anagrams1(a, b):\n",
    "    \n",
    "    def get_alphanumeric(s):\n",
    "        expression = '\\w+'\n",
    "        return ''.join(re.findall(expression, s.lower()))\n",
    "    \n",
    "    def create_character_map(s):\n",
    "        chars = defaultdict(int)\n",
    "    \n",
    "        for c in s:\n",
    "            chars[c] += 1\n",
    "            \n",
    "        return chars\n",
    "        \n",
    "    \n",
    "    a1 = create_character_map(get_alphanumeric(a))\n",
    "    b1 = create_character_map(get_alphanumeric(b))\n",
    "    \n",
    "    \n",
    "    return a1 == b1"
   ]
  },
  {
   "cell_type": "code",
   "execution_count": 73,
   "id": "add257c6",
   "metadata": {},
   "outputs": [
    {
     "data": {
      "text/plain": [
       "False"
      ]
     },
     "execution_count": 73,
     "metadata": {},
     "output_type": "execute_result"
    }
   ],
   "source": [
    "anagrams1('Hi there', 'Bye there')"
   ]
  },
  {
   "cell_type": "code",
   "execution_count": 109,
   "id": "47867bfa",
   "metadata": {},
   "outputs": [],
   "source": [
    "import re\n",
    "\n",
    "def anagrams2(a, b):\n",
    "    \n",
    "    def get_alphanumeric(s):\n",
    "        expression = '\\w'\n",
    "        return re.findall(expression, s.lower())\n",
    "    \n",
    "    return sorted(get_alphanumeric(a)) == sorted(get_alphanumeric(b))\n",
    "    "
   ]
  },
  {
   "cell_type": "code",
   "execution_count": 115,
   "id": "44a36b03",
   "metadata": {},
   "outputs": [
    {
     "data": {
      "text/plain": [
       "True"
      ]
     },
     "execution_count": 115,
     "metadata": {},
     "output_type": "execute_result"
    }
   ],
   "source": [
    "anagrams2('rail safety', 'fairy tales')"
   ]
  },
  {
   "cell_type": "markdown",
   "id": "5f4f8c03",
   "metadata": {},
   "source": [
    "# Sentance Capitalization"
   ]
  },
  {
   "cell_type": "code",
   "execution_count": 4,
   "id": "458e9c53",
   "metadata": {},
   "outputs": [],
   "source": [
    "s = \"this should be Capitalized\""
   ]
  },
  {
   "cell_type": "code",
   "execution_count": 23,
   "id": "a5c73c20",
   "metadata": {},
   "outputs": [],
   "source": [
    "def capitalize1(s):\n",
    "    return \" \".join([x.capitalize() for x in s.split()])"
   ]
  },
  {
   "cell_type": "code",
   "execution_count": 24,
   "id": "c98d9c64",
   "metadata": {},
   "outputs": [
    {
     "data": {
      "text/plain": [
       "'This Should Be Capitalized'"
      ]
     },
     "execution_count": 24,
     "metadata": {},
     "output_type": "execute_result"
    }
   ],
   "source": [
    "capitalize1(s)"
   ]
  },
  {
   "cell_type": "code",
   "execution_count": 27,
   "id": "012bcf20",
   "metadata": {},
   "outputs": [],
   "source": [
    "def capitalize2(s):\n",
    "    result = s[0].upper()\n",
    "    \n",
    "    for i in range(1, len(s)):\n",
    "        if (s[i - 1] == ' '):\n",
    "            result += s[i].upper()\n",
    "        else:\n",
    "            result += s[i]\n",
    "    return result"
   ]
  },
  {
   "cell_type": "code",
   "execution_count": 28,
   "id": "e79f9550",
   "metadata": {},
   "outputs": [
    {
     "data": {
      "text/plain": [
       "'This Should Be Capitalized'"
      ]
     },
     "execution_count": 28,
     "metadata": {},
     "output_type": "execute_result"
    }
   ],
   "source": [
    "capitalize2(s)"
   ]
  },
  {
   "cell_type": "markdown",
   "id": "07beab41",
   "metadata": {},
   "source": [
    "# Print Steps"
   ]
  },
  {
   "cell_type": "code",
   "execution_count": 70,
   "id": "31795a5a",
   "metadata": {},
   "outputs": [],
   "source": [
    "def print_steps1(n):\n",
    "    steps = ['#' * x + ' ' * (n - x) for x in range(1, n + 1)]\n",
    "    \n",
    "    for step in steps:\n",
    "        print(step)"
   ]
  },
  {
   "cell_type": "code",
   "execution_count": 71,
   "id": "dcfa0120",
   "metadata": {},
   "outputs": [
    {
     "name": "stdout",
     "output_type": "stream",
     "text": [
      "#    \n",
      "##   \n",
      "###  \n",
      "#### \n",
      "#####\n"
     ]
    }
   ],
   "source": [
    "print_steps1(5)"
   ]
  },
  {
   "cell_type": "code",
   "execution_count": 74,
   "id": "918e6509",
   "metadata": {},
   "outputs": [],
   "source": [
    "def print_steps2(n):\n",
    "    for row in range(n):\n",
    "        stair = ''\n",
    "        \n",
    "        for column in range(n):\n",
    "            if column <= row:\n",
    "                stair += '#'\n",
    "            else:\n",
    "                stair += ' '\n",
    "                \n",
    "        print(stair)"
   ]
  },
  {
   "cell_type": "code",
   "execution_count": 78,
   "id": "deef32c7",
   "metadata": {},
   "outputs": [
    {
     "name": "stdout",
     "output_type": "stream",
     "text": [
      "#      \n",
      "##     \n",
      "###    \n",
      "####   \n",
      "#####  \n",
      "###### \n",
      "#######\n"
     ]
    }
   ],
   "source": [
    "print_steps2(7)"
   ]
  },
  {
   "cell_type": "markdown",
   "id": "759a45ad",
   "metadata": {},
   "source": [
    "##### ALWAYS IDENTIFY BASE CASE FIRST!\n",
    "\n",
    "First thing you always do with a recursive function is identify the base case - (the condition in which we decided there is no more work to do and its time to return and stop the recursive process "
   ]
  },
  {
   "cell_type": "code",
   "execution_count": 7,
   "id": "6ac8fc18",
   "metadata": {},
   "outputs": [],
   "source": [
    "def print_steps3(n, row = 0, stair = ''):\n",
    "    # Base case\n",
    "    if n == row:\n",
    "        return\n",
    "    \n",
    "    if n == len(stair):\n",
    "        print(stair)\n",
    "        return print_steps3(n, row + 1)\n",
    "   \n",
    "    add = '#' if len(stair) <= row else ' '\n",
    "    \n",
    "    print_steps3(n, row, stair + add)"
   ]
  },
  {
   "cell_type": "code",
   "execution_count": 8,
   "id": "b94c2935",
   "metadata": {
    "scrolled": true
   },
   "outputs": [
    {
     "name": "stdout",
     "output_type": "stream",
     "text": [
      "#         \n",
      "##        \n",
      "###       \n",
      "####      \n",
      "#####     \n",
      "######    \n",
      "#######   \n",
      "########  \n",
      "######### \n",
      "##########\n"
     ]
    }
   ],
   "source": [
    "print_steps3(10)"
   ]
  },
  {
   "cell_type": "markdown",
   "id": "9b35ba45",
   "metadata": {},
   "source": [
    "# Two Sided Steps - Pyramids"
   ]
  },
  {
   "cell_type": "code",
   "execution_count": 128,
   "id": "4e23c01d",
   "metadata": {},
   "outputs": [],
   "source": [
    "def pyramid1(n):\n",
    "    \n",
    "    def get_row(n, steps):\n",
    "        hashbangs = '#' * (n + n - 1)\n",
    "        spaces = ' ' * (steps - n)\n",
    "    \n",
    "        return spaces + hashbangs + spaces\n",
    "    \n",
    "    \n",
    "    steps = [get_row(x, n) for x in range(1, n + 1)]\n",
    "    \n",
    "    for step in steps:\n",
    "        print(step)"
   ]
  },
  {
   "cell_type": "code",
   "execution_count": 141,
   "id": "4195d8ed",
   "metadata": {},
   "outputs": [
    {
     "name": "stdout",
     "output_type": "stream",
     "text": [
      "    #    \n",
      "   ###   \n",
      "  #####  \n",
      " ####### \n",
      "#########\n"
     ]
    }
   ],
   "source": [
    "pyramid1(5)"
   ]
  },
  {
   "cell_type": "code",
   "execution_count": 193,
   "id": "26008620",
   "metadata": {},
   "outputs": [],
   "source": [
    "import math\n",
    "\n",
    "def pyramid2(n, row = 0, level = ''):\n",
    "    if n == row:\n",
    "        return\n",
    "    \n",
    "    if len(level) == 2 * n - 1:\n",
    "        print(level)\n",
    "        return pyramid2(n, row + 1)\n",
    "    \n",
    "    midpoint = math.floor((2 * n - 1) / 2)\n",
    "\n",
    "    add = '#' if midpoint - row <= len(level) and midpoint + row >= len(level) else ' '\n",
    "    \n",
    "    pyramid2(n, row, level + add)\n",
    "    \n",
    "        "
   ]
  },
  {
   "cell_type": "code",
   "execution_count": 194,
   "id": "48b4fbbf",
   "metadata": {},
   "outputs": [
    {
     "name": "stdout",
     "output_type": "stream",
     "text": [
      "   #   \n",
      "  ###  \n",
      " ##### \n",
      "#######\n"
     ]
    }
   ],
   "source": [
    "pyramid2(4)"
   ]
  },
  {
   "cell_type": "markdown",
   "id": "f28a387b",
   "metadata": {},
   "source": [
    "# Find the Vowels"
   ]
  },
  {
   "cell_type": "code",
   "execution_count": 215,
   "id": "c9d7fb8a",
   "metadata": {},
   "outputs": [],
   "source": [
    "def find_vowels(s):\n",
    "    return len([x for x in s if x in 'aeiou'])"
   ]
  },
  {
   "cell_type": "code",
   "execution_count": 270,
   "id": "08c60663",
   "metadata": {},
   "outputs": [
    {
     "data": {
      "text/plain": [
       "3"
      ]
     },
     "execution_count": 270,
     "metadata": {},
     "output_type": "execute_result"
    }
   ],
   "source": [
    "find_vowels('abcdefghi')"
   ]
  },
  {
   "cell_type": "code",
   "execution_count": 219,
   "id": "d072082f",
   "metadata": {},
   "outputs": [],
   "source": [
    "def find_vowels1(s):\n",
    "    count = 0\n",
    "    checker = \"aeiou\"\n",
    "    \n",
    "    for x in s:\n",
    "        if x in checker:\n",
    "            count += 1\n",
    "    return count"
   ]
  },
  {
   "cell_type": "code",
   "execution_count": 267,
   "id": "2002a386",
   "metadata": {},
   "outputs": [],
   "source": [
    "import re\n",
    "\n",
    "def find_vowels2(s):\n",
    "    return len(re.findall('[aeiou]', s))\n"
   ]
  },
  {
   "cell_type": "markdown",
   "id": "138fa69c",
   "metadata": {},
   "source": [
    "# Enter the Matrix Spiral"
   ]
  },
  {
   "cell_type": "code",
   "execution_count": 201,
   "id": "0f5db414",
   "metadata": {},
   "outputs": [],
   "source": [
    "def matrix(n):\n",
    "    results = [[None] * n for i in range(n)]\n",
    "    \n",
    "    counter = 1\n",
    "    start_column = 0\n",
    "    end_column = n - 1\n",
    "    start_row = 0\n",
    "    end_row = n - 1\n",
    "    \n",
    "    \n",
    "    while start_column <= end_column and start_row <= end_row:\n",
    "        # Top Row\n",
    "        for i in range(start_column, end_column + 1):\n",
    "            results[start_row][i] = counter\n",
    "            counter += 1\n",
    "        start_row += 1\n",
    "        \n",
    "        # Right Column\n",
    "        for i in range(start_row, end_row + 1):\n",
    "            results[i][end_column] = counter\n",
    "            counter += 1\n",
    "        end_column -= 1\n",
    "        \n",
    "        # Bottom Row\n",
    "        for i in range(end_column, start_column - 1, -1):\n",
    "            results[end_row][i] = counter\n",
    "            counter += 1\n",
    "        end_row -= 1\n",
    "        \n",
    "        # Left Column\n",
    "        for i in range(end_row, start_row - 1, -1):\n",
    "            results[i][start_column] = counter\n",
    "            counter += 1\n",
    "        start_column += 1\n",
    "            \n",
    "    \n",
    "    return results"
   ]
  },
  {
   "cell_type": "code",
   "execution_count": 204,
   "id": "70e0835f",
   "metadata": {},
   "outputs": [
    {
     "name": "stdout",
     "output_type": "stream",
     "text": [
      "[1, 2, 3]\n",
      "[8, 9, 4]\n",
      "[7, 6, 5]\n"
     ]
    }
   ],
   "source": [
    "for x in matrix(3):\n",
    "    print(x)"
   ]
  },
  {
   "cell_type": "markdown",
   "id": "00c96708",
   "metadata": {},
   "source": [
    "# Runtime Complexity in Practice - Fibonacci"
   ]
  },
  {
   "cell_type": "code",
   "execution_count": 3,
   "id": "bed40c8f",
   "metadata": {},
   "outputs": [],
   "source": [
    "def fib(n):\n",
    "    \n",
    "    result = [0, 1]\n",
    "    \n",
    "    for i in range(2, n):\n",
    "        a = result[i - 1]\n",
    "        b = result [i - 2]\n",
    "        \n",
    "        result.append(a + b)\n",
    "        \n",
    "    return result\n",
    "        "
   ]
  },
  {
   "cell_type": "code",
   "execution_count": 8,
   "id": "26ec7231",
   "metadata": {},
   "outputs": [
    {
     "data": {
      "text/plain": [
       "[0, 1, 1, 2, 3, 5, 8, 13, 21, 34]"
      ]
     },
     "execution_count": 8,
     "metadata": {},
     "output_type": "execute_result"
    }
   ],
   "source": [
    "fib(10)"
   ]
  },
  {
   "cell_type": "code",
   "execution_count": 35,
   "id": "05d82ebb",
   "metadata": {},
   "outputs": [],
   "source": [
    "import functools\n",
    "\n",
    "\n",
    "@functools.lru_cache(maxsize=None)\n",
    "def fib1(n):\n",
    "    if n < 2:\n",
    "        return n\n",
    "    \n",
    "    return fib1(n - 1) + fib1(n - 2)"
   ]
  },
  {
   "cell_type": "code",
   "execution_count": 41,
   "id": "4e7a7bd2",
   "metadata": {},
   "outputs": [
    {
     "data": {
      "text/plain": [
       "12586269025"
      ]
     },
     "execution_count": 41,
     "metadata": {},
     "output_type": "execute_result"
    }
   ],
   "source": [
    "fib1(50)"
   ]
  },
  {
   "cell_type": "markdown",
   "id": "058942be",
   "metadata": {},
   "source": [
    "# The Queue"
   ]
  },
  {
   "cell_type": "code",
   "execution_count": 16,
   "id": "54a338ae",
   "metadata": {},
   "outputs": [],
   "source": [
    "class Queue:\n",
    "    def __init__(self):\n",
    "        self.data = []\n",
    "        \n",
    "    def add(self, item):\n",
    "        self.data.append(item)\n",
    "        \n",
    "        \n",
    "    def remove(self):\n",
    "        return self.data.pop(0)\n",
    "    \n",
    "    "
   ]
  },
  {
   "cell_type": "code",
   "execution_count": 11,
   "id": "dd4e63ee",
   "metadata": {},
   "outputs": [],
   "source": [
    "q = Queue()"
   ]
  },
  {
   "cell_type": "code",
   "execution_count": 15,
   "id": "2b58f77f",
   "metadata": {
    "scrolled": true
   },
   "outputs": [
    {
     "data": {
      "text/plain": [
       "1"
      ]
     },
     "execution_count": 15,
     "metadata": {},
     "output_type": "execute_result"
    }
   ],
   "source": [
    "q.remove()"
   ]
  },
  {
   "cell_type": "markdown",
   "id": "0871a178",
   "metadata": {},
   "source": [
    "# Underwater Queue Weaving"
   ]
  },
  {
   "cell_type": "code",
   "execution_count": 22,
   "id": "ee92a899",
   "metadata": {},
   "outputs": [],
   "source": [
    "class Queue:\n",
    "    def __init__(self, data = None):\n",
    "        if data is None:\n",
    "            self.data = []\n",
    "        else:\n",
    "            self.data = data\n",
    "        \n",
    "    def add(self, item):\n",
    "        self.data.append(item)\n",
    "        \n",
    "        \n",
    "    def remove(self):\n",
    "        return self.data.pop(0)\n",
    "    \n",
    "    \n",
    "    def peek(self):\n",
    "        return self.data[0] if self.data else None"
   ]
  },
  {
   "cell_type": "code",
   "execution_count": 72,
   "id": "53143560",
   "metadata": {},
   "outputs": [],
   "source": [
    "a = Queue(data=[1, 2, 3, 4, 5])\n",
    "b = Queue(data=['a', 'b', 'c'])"
   ]
  },
  {
   "cell_type": "code",
   "execution_count": 73,
   "id": "02881edb",
   "metadata": {},
   "outputs": [],
   "source": [
    "def weave(a, b):\n",
    "    q = Queue()\n",
    "    \n",
    "    while a.peek() or b.peek():\n",
    "        \n",
    "        if a.peek():\n",
    "            q.add(a.remove())\n",
    "            \n",
    "        if b.peek():\n",
    "            q.add(b.remove())\n",
    "    \n",
    "    \n",
    "    return q"
   ]
  },
  {
   "cell_type": "code",
   "execution_count": 74,
   "id": "3bc319dc",
   "metadata": {},
   "outputs": [],
   "source": [
    "c = weave(a, b)"
   ]
  },
  {
   "cell_type": "code",
   "execution_count": 75,
   "id": "c3daab0e",
   "metadata": {},
   "outputs": [
    {
     "data": {
      "text/plain": [
       "[1, 'a', 2, 'b', 3, 'c', 4, 5]"
      ]
     },
     "execution_count": 75,
     "metadata": {},
     "output_type": "execute_result"
    }
   ],
   "source": [
    "c.data"
   ]
  },
  {
   "cell_type": "markdown",
   "id": "a09e62c8",
   "metadata": {},
   "source": [
    "# Stack 'Em Up With Stacks"
   ]
  },
  {
   "cell_type": "code",
   "execution_count": 24,
   "id": "8e7b7a87",
   "metadata": {},
   "outputs": [],
   "source": [
    "class Stack:\n",
    "    def __init__(self, data=None):\n",
    "        if data is None:\n",
    "            self.data = []\n",
    "        else:\n",
    "            self.data = data\n",
    "        \n",
    "    def push(self, item):\n",
    "        self.data.insert(0, item)\n",
    "        \n",
    "    def pop(self):\n",
    "        return self.data.pop(0)\n",
    "        \n",
    "    def peek(self):\n",
    "        return self.data[0] if self.data else None"
   ]
  },
  {
   "cell_type": "code",
   "execution_count": 84,
   "id": "6e3a021a",
   "metadata": {},
   "outputs": [],
   "source": [
    "s = Stack()"
   ]
  },
  {
   "cell_type": "code",
   "execution_count": 89,
   "id": "27a80ca2",
   "metadata": {
    "scrolled": true
   },
   "outputs": [
    {
     "data": {
      "text/plain": [
       "3"
      ]
     },
     "execution_count": 89,
     "metadata": {},
     "output_type": "execute_result"
    }
   ],
   "source": [
    "s.pop()"
   ]
  },
  {
   "cell_type": "markdown",
   "id": "46ca86be",
   "metadata": {},
   "source": [
    "# Two Become One"
   ]
  },
  {
   "cell_type": "code",
   "execution_count": 53,
   "id": "181ceea5",
   "metadata": {},
   "outputs": [],
   "source": [
    "class Queue:\n",
    "    \n",
    "    def __init__(self):\n",
    "        self.a = Stack()\n",
    "        self.b = Stack()\n",
    "        \n",
    "    def add(self, item):\n",
    "        self.a.push(item)\n",
    "        \n",
    "        \n",
    "    def remove(self):\n",
    "        result = None\n",
    "        \n",
    "        while self.a.peek():\n",
    "            self.b.push(self.a.pop())\n",
    "            \n",
    "        record = self.b.pop()\n",
    "            \n",
    "        while self.b.peek():\n",
    "            self.a.push(self.b.pop())\n",
    "\n",
    "                \n",
    "        return result\n",
    "    \n",
    "    def peek(self):\n",
    "        record = None\n",
    "        \n",
    "        while self.a.peek():\n",
    "            self.b.push(self.a.pop())\n",
    "            \n",
    "        record = self.b.peek()\n",
    "            \n",
    "        while self.b.peek():\n",
    "            self.a.push(self.b.pop())\n",
    "\n",
    "                \n",
    "        return record\n",
    "        "
   ]
  },
  {
   "cell_type": "code",
   "execution_count": 54,
   "id": "87f2f2d6",
   "metadata": {},
   "outputs": [],
   "source": [
    "q = Queue()\n",
    "q.add(1)\n",
    "q.add(2)\n",
    "q.add(3)"
   ]
  },
  {
   "cell_type": "code",
   "execution_count": 57,
   "id": "3f8b1faf",
   "metadata": {
    "scrolled": true
   },
   "outputs": [
    {
     "data": {
      "text/plain": [
       "1"
      ]
     },
     "execution_count": 57,
     "metadata": {},
     "output_type": "execute_result"
    }
   ],
   "source": [
    "q.peek()"
   ]
  },
  {
   "cell_type": "markdown",
   "id": "fd510544",
   "metadata": {},
   "source": [
    "# Linked Lists"
   ]
  },
  {
   "cell_type": "code",
   "execution_count": 2,
   "id": "38a135ac",
   "metadata": {},
   "outputs": [],
   "source": [
    "class Node:\n",
    "    def __init__(self, data, next=None):\n",
    "        self.data = data\n",
    "        self.next = next"
   ]
  },
  {
   "cell_type": "code",
   "execution_count": 128,
   "id": "e128f6e1",
   "metadata": {},
   "outputs": [],
   "source": [
    "class LinkedList:\n",
    "    def __init__(self, head=None):\n",
    "        self.head = head\n",
    "        \n",
    "        \n",
    "    def insert_first(self, data):\n",
    "        self.head = Node(data, next=self.head)\n",
    "        \n",
    "    \n",
    "    def insert_last(self, data):\n",
    "        node = Node(data)\n",
    "        last = self.get_last()\n",
    "        \n",
    "        if last:\n",
    "            last.next = node\n",
    "        else:\n",
    "            self.head = node\n",
    "        \n",
    "        \n",
    "    def size(self):\n",
    "        counter = 0\n",
    "        node = self.head\n",
    "        \n",
    "        while node:\n",
    "            counter += 1\n",
    "            node = node.next\n",
    "        \n",
    "        return counter\n",
    "    \n",
    "    \n",
    "    def get_first(self):\n",
    "        return self.head\n",
    "    \n",
    "    \n",
    "    def get_last(self):\n",
    "        if self.head is None:\n",
    "            return None\n",
    "        \n",
    "        node = self.head\n",
    "        while node.next:\n",
    "            node = node.next\n",
    "            \n",
    "        return node\n",
    "    \n",
    "    \n",
    "    def clear(self):\n",
    "        self.head = None   \n",
    "        \n",
    "        \n",
    "    def remove_first(self):\n",
    "        if self.head is None:\n",
    "            return\n",
    "        \n",
    "        self.head = self.head.next\n",
    "        \n",
    "        \n",
    "    def remove_last(self):\n",
    "        if self.head is None:\n",
    "            return\n",
    "        \n",
    "        if self.head.next is None:\n",
    "            self.head = None\n",
    "            return\n",
    "        \n",
    "        previous = self.head\n",
    "        node = self.head.next\n",
    "        while node.next:\n",
    "            previous = node\n",
    "            node = node.next\n",
    "        \n",
    "        previous.next = None\n",
    "        \n",
    "        \n",
    "    def get_at(self, index):\n",
    "        \n",
    "        count = 0\n",
    "        node = self.head\n",
    "        \n",
    "        while node:\n",
    "            if count == index:\n",
    "                return node\n",
    "            \n",
    "            count += 1\n",
    "            node = node.next\n",
    "            \n",
    "        return None\n",
    "    \n",
    "    \n",
    "    def remove_at(self, index):\n",
    "        \n",
    "        if self.head is None:\n",
    "            return\n",
    "        \n",
    "        if index == 0:\n",
    "            self.head = self.head.next\n",
    "            return\n",
    "        \n",
    "        previous = self.get_at(index - 1)\n",
    "        \n",
    "        if previous is None or previous.next is None:\n",
    "            return\n",
    "        \n",
    "        previous.next = previous.next.next\n",
    "            \n",
    "            \n",
    "    def insert_at(self, data, index):\n",
    "        if self.head is None:\n",
    "            self.head = Node(data)\n",
    "            return\n",
    "        \n",
    "        if index == 0:\n",
    "            self.head = Node(data, self.head)\n",
    "            return\n",
    "        \n",
    "        previous = self.get_at(index - 1) or self.get_last()\n",
    "        node = Node(data, previous.next)\n",
    "        previous.next = node\n",
    "        \n",
    "    \n",
    "    def for_each(self, fn):\n",
    "        \n",
    "        node = self.head\n",
    "        count = 0\n",
    "        \n",
    "        while node:\n",
    "            fn(node, count)\n",
    "            node = node.next\n",
    "            count += 1\n",
    "            \n",
    "            "
   ]
  },
  {
   "cell_type": "code",
   "execution_count": 129,
   "id": "df151934",
   "metadata": {},
   "outputs": [],
   "source": [
    "l1 = LinkedList()"
   ]
  },
  {
   "cell_type": "code",
   "execution_count": 130,
   "id": "2d1503b4",
   "metadata": {},
   "outputs": [],
   "source": [
    "for i in range(3):\n",
    "    l1.insert_first(i)"
   ]
  },
  {
   "cell_type": "code",
   "execution_count": 131,
   "id": "e2645776",
   "metadata": {
    "scrolled": false
   },
   "outputs": [
    {
     "ename": "TypeError",
     "evalue": "<lambda>() takes 1 positional argument but 2 were given",
     "output_type": "error",
     "traceback": [
      "\u001b[1;31m---------------------------------------------------------------------------\u001b[0m",
      "\u001b[1;31mTypeError\u001b[0m                                 Traceback (most recent call last)",
      "\u001b[1;32m~\\AppData\\Local\\Temp/ipykernel_19828/1295613157.py\u001b[0m in \u001b[0;36m<module>\u001b[1;34m\u001b[0m\n\u001b[1;32m----> 1\u001b[1;33m \u001b[0ml1\u001b[0m\u001b[1;33m.\u001b[0m\u001b[0mfor_each\u001b[0m\u001b[1;33m(\u001b[0m\u001b[1;32mlambda\u001b[0m \u001b[0mx\u001b[0m\u001b[1;33m:\u001b[0m \u001b[0mprint\u001b[0m\u001b[1;33m(\u001b[0m\u001b[0mx\u001b[0m\u001b[1;33m)\u001b[0m\u001b[1;33m)\u001b[0m\u001b[1;33m\u001b[0m\u001b[1;33m\u001b[0m\u001b[0m\n\u001b[0m",
      "\u001b[1;32m~\\AppData\\Local\\Temp/ipykernel_19828/3407148097.py\u001b[0m in \u001b[0;36mfor_each\u001b[1;34m(self, fn)\u001b[0m\n\u001b[0;32m    124\u001b[0m \u001b[1;33m\u001b[0m\u001b[0m\n\u001b[0;32m    125\u001b[0m         \u001b[1;32mwhile\u001b[0m \u001b[0mnode\u001b[0m\u001b[1;33m:\u001b[0m\u001b[1;33m\u001b[0m\u001b[1;33m\u001b[0m\u001b[0m\n\u001b[1;32m--> 126\u001b[1;33m             \u001b[0mfn\u001b[0m\u001b[1;33m(\u001b[0m\u001b[0mnode\u001b[0m\u001b[1;33m,\u001b[0m \u001b[0mcount\u001b[0m\u001b[1;33m)\u001b[0m\u001b[1;33m\u001b[0m\u001b[1;33m\u001b[0m\u001b[0m\n\u001b[0m\u001b[0;32m    127\u001b[0m             \u001b[0mnode\u001b[0m \u001b[1;33m=\u001b[0m \u001b[0mnode\u001b[0m\u001b[1;33m.\u001b[0m\u001b[0mnext\u001b[0m\u001b[1;33m\u001b[0m\u001b[1;33m\u001b[0m\u001b[0m\n\u001b[0;32m    128\u001b[0m             \u001b[0mcount\u001b[0m \u001b[1;33m+=\u001b[0m \u001b[1;36m1\u001b[0m\u001b[1;33m\u001b[0m\u001b[1;33m\u001b[0m\u001b[0m\n",
      "\u001b[1;31mTypeError\u001b[0m: <lambda>() takes 1 positional argument but 2 were given"
     ]
    }
   ],
   "source": [
    "l1.for_each(lambda x: print(x))"
   ]
  },
  {
   "cell_type": "code",
   "execution_count": 117,
   "id": "3c1378c3",
   "metadata": {},
   "outputs": [],
   "source": [
    "l1.insert_at(50, 4)"
   ]
  },
  {
   "cell_type": "code",
   "execution_count": 72,
   "id": "2b5eaacf",
   "metadata": {},
   "outputs": [
    {
     "data": {
      "text/plain": [
       "0"
      ]
     },
     "execution_count": 72,
     "metadata": {},
     "output_type": "execute_result"
    }
   ],
   "source": [
    "l1.get_last().data"
   ]
  },
  {
   "cell_type": "code",
   "execution_count": 100,
   "id": "c6941471",
   "metadata": {},
   "outputs": [],
   "source": [
    "l1.remove_at(1)"
   ]
  },
  {
   "cell_type": "code",
   "execution_count": 101,
   "id": "1db579c2",
   "metadata": {},
   "outputs": [
    {
     "ename": "AttributeError",
     "evalue": "'NoneType' object has no attribute 'data'",
     "output_type": "error",
     "traceback": [
      "\u001b[1;31m---------------------------------------------------------------------------\u001b[0m",
      "\u001b[1;31mAttributeError\u001b[0m                            Traceback (most recent call last)",
      "\u001b[1;32m~\\AppData\\Local\\Temp/ipykernel_19828/26378178.py\u001b[0m in \u001b[0;36m<module>\u001b[1;34m\u001b[0m\n\u001b[1;32m----> 1\u001b[1;33m \u001b[0ml1\u001b[0m\u001b[1;33m.\u001b[0m\u001b[0mget_at\u001b[0m\u001b[1;33m(\u001b[0m\u001b[1;36m1\u001b[0m\u001b[1;33m)\u001b[0m\u001b[1;33m.\u001b[0m\u001b[0mdata\u001b[0m\u001b[1;33m\u001b[0m\u001b[1;33m\u001b[0m\u001b[0m\n\u001b[0m",
      "\u001b[1;31mAttributeError\u001b[0m: 'NoneType' object has no attribute 'data'"
     ]
    }
   ],
   "source": [
    "l1.get_at(1).data"
   ]
  },
  {
   "cell_type": "code",
   "execution_count": 21,
   "id": "baee986e",
   "metadata": {},
   "outputs": [],
   "source": [
    "l1.insert_last('hi')"
   ]
  },
  {
   "cell_type": "code",
   "execution_count": 23,
   "id": "666453d3",
   "metadata": {},
   "outputs": [
    {
     "data": {
      "text/plain": [
       "'hi'"
      ]
     },
     "execution_count": 23,
     "metadata": {},
     "output_type": "execute_result"
    }
   ],
   "source": [
    "l1.get_last().data"
   ]
  },
  {
   "cell_type": "code",
   "execution_count": 54,
   "id": "17a350d0",
   "metadata": {},
   "outputs": [],
   "source": [
    "l1.remove_at(1)"
   ]
  },
  {
   "cell_type": "code",
   "execution_count": 41,
   "id": "f075b2b6",
   "metadata": {},
   "outputs": [
    {
     "data": {
      "text/plain": [
       "0"
      ]
     },
     "execution_count": 41,
     "metadata": {},
     "output_type": "execute_result"
    }
   ],
   "source": [
    "l1.get_at(1).data"
   ]
  }
 ],
 "metadata": {
  "kernelspec": {
   "display_name": "Python 3 (ipykernel)",
   "language": "python",
   "name": "python3"
  },
  "language_info": {
   "codemirror_mode": {
    "name": "ipython",
    "version": 3
   },
   "file_extension": ".py",
   "mimetype": "text/x-python",
   "name": "python",
   "nbconvert_exporter": "python",
   "pygments_lexer": "ipython3",
   "version": "3.8.9"
  }
 },
 "nbformat": 4,
 "nbformat_minor": 5
}
