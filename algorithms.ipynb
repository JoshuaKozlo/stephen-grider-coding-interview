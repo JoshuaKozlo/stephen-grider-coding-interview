{
 "cells": [
  {
   "cell_type": "markdown",
   "id": "baff5a10",
   "metadata": {},
   "source": [
    "# String Reversal"
   ]
  },
  {
   "cell_type": "code",
   "execution_count": 5,
   "id": "c7a355c3",
   "metadata": {},
   "outputs": [],
   "source": [
    "s = 'Bananna!'"
   ]
  },
  {
   "cell_type": "code",
   "execution_count": 66,
   "id": "30db9fbf",
   "metadata": {},
   "outputs": [],
   "source": [
    "def reverse1(s):\n",
    "    return s[::-1]"
   ]
  },
  {
   "cell_type": "code",
   "execution_count": 67,
   "id": "180844be",
   "metadata": {},
   "outputs": [
    {
     "data": {
      "text/plain": [
       "'!annanaB'"
      ]
     },
     "execution_count": 67,
     "metadata": {},
     "output_type": "execute_result"
    }
   ],
   "source": [
    "reverse1(s)"
   ]
  },
  {
   "cell_type": "code",
   "execution_count": 36,
   "id": "dbf0e10b",
   "metadata": {},
   "outputs": [],
   "source": [
    "def reverse2(s):\n",
    "    arr = list(s)\n",
    "    arr.reverse()\n",
    "    return ''.join(arr)"
   ]
  },
  {
   "cell_type": "code",
   "execution_count": 38,
   "id": "24cabf4f",
   "metadata": {},
   "outputs": [
    {
     "data": {
      "text/plain": [
       "'!annanaB'"
      ]
     },
     "execution_count": 38,
     "metadata": {},
     "output_type": "execute_result"
    }
   ],
   "source": [
    "reverse2(s)"
   ]
  },
  {
   "cell_type": "code",
   "execution_count": 46,
   "id": "10156ef5",
   "metadata": {},
   "outputs": [],
   "source": [
    "def reverse3(s):\n",
    "    rs = ''\n",
    "    \n",
    "    for l in s:\n",
    "        rs = l + rs\n",
    "    \n",
    "    return rs"
   ]
  },
  {
   "cell_type": "code",
   "execution_count": 47,
   "id": "2b05c776",
   "metadata": {},
   "outputs": [
    {
     "data": {
      "text/plain": [
       "'!annanaB'"
      ]
     },
     "execution_count": 47,
     "metadata": {},
     "output_type": "execute_result"
    }
   ],
   "source": [
    "reverse3(s)"
   ]
  },
  {
   "cell_type": "code",
   "execution_count": 65,
   "id": "b76aceae",
   "metadata": {},
   "outputs": [],
   "source": [
    "import functools\n",
    "\n",
    "def reverse4(s):\n",
    "    return functools.reduce(lambda a, b: b+a, list(s))"
   ]
  },
  {
   "cell_type": "code",
   "execution_count": 64,
   "id": "c600f024",
   "metadata": {
    "scrolled": true
   },
   "outputs": [
    {
     "data": {
      "text/plain": [
       "'!annanaB'"
      ]
     },
     "execution_count": 64,
     "metadata": {},
     "output_type": "execute_result"
    }
   ],
   "source": [
    "reverse4(s)"
   ]
  },
  {
   "cell_type": "markdown",
   "id": "759f02ad",
   "metadata": {},
   "source": [
    "# Palindromes"
   ]
  },
  {
   "cell_type": "code",
   "execution_count": 44,
   "id": "b55200e8",
   "metadata": {},
   "outputs": [],
   "source": [
    "s = 'abcdcba'"
   ]
  },
  {
   "cell_type": "code",
   "execution_count": 7,
   "id": "88af3e26",
   "metadata": {},
   "outputs": [],
   "source": [
    "def palindrome1(s):\n",
    "    return s == s[::-1]"
   ]
  },
  {
   "cell_type": "code",
   "execution_count": 45,
   "id": "9ef94f01",
   "metadata": {},
   "outputs": [
    {
     "data": {
      "text/plain": [
       "True"
      ]
     },
     "execution_count": 45,
     "metadata": {},
     "output_type": "execute_result"
    }
   ],
   "source": [
    "palindrome1(s)"
   ]
  },
  {
   "cell_type": "code",
   "execution_count": 38,
   "id": "46e0e5f4",
   "metadata": {},
   "outputs": [],
   "source": [
    "def palindrome2(s):\n",
    "    return all([x == s[-(i + 1)] for i, x in enumerate(s)])"
   ]
  },
  {
   "cell_type": "code",
   "execution_count": 46,
   "id": "6bdb4386",
   "metadata": {},
   "outputs": [
    {
     "data": {
      "text/plain": [
       "True"
      ]
     },
     "execution_count": 46,
     "metadata": {},
     "output_type": "execute_result"
    }
   ],
   "source": [
    "palindrome2(s)"
   ]
  },
  {
   "cell_type": "markdown",
   "id": "b7f576b5",
   "metadata": {},
   "source": [
    "# Integer Reversal"
   ]
  },
  {
   "cell_type": "code",
   "execution_count": 81,
   "id": "cc2956c0",
   "metadata": {},
   "outputs": [],
   "source": [
    "def reverseInt1(s):\n",
    "    x = int(str(abs(s))[::-1])\n",
    "    \n",
    "    return -x if s < 0 else x\n",
    "    "
   ]
  },
  {
   "cell_type": "code",
   "execution_count": 84,
   "id": "3b8f5987",
   "metadata": {},
   "outputs": [
    {
     "data": {
      "text/plain": [
       "-2021"
      ]
     },
     "execution_count": 84,
     "metadata": {},
     "output_type": "execute_result"
    }
   ],
   "source": [
    "reverseInt1(-1202)"
   ]
  },
  {
   "cell_type": "markdown",
   "id": "c796fa33",
   "metadata": {},
   "source": [
    "# Max Chars"
   ]
  },
  {
   "cell_type": "code",
   "execution_count": 59,
   "id": "b0cc21cd",
   "metadata": {},
   "outputs": [],
   "source": [
    "s = \"aaabbbbaaaaba\""
   ]
  },
  {
   "cell_type": "code",
   "execution_count": 39,
   "id": "693d591c",
   "metadata": {},
   "outputs": [],
   "source": [
    "def max_char1(s):\n",
    "    \n",
    "    chars = {}\n",
    "    \n",
    "    for c in s:\n",
    "        if c in chars:\n",
    "            chars[c] += 1\n",
    "        else:\n",
    "            chars[c] = 1\n",
    "    return max(chars, key=chars.get)"
   ]
  },
  {
   "cell_type": "code",
   "execution_count": 36,
   "id": "cff28936",
   "metadata": {},
   "outputs": [
    {
     "data": {
      "text/plain": [
       "'b'"
      ]
     },
     "execution_count": 36,
     "metadata": {},
     "output_type": "execute_result"
    }
   ],
   "source": [
    "max_char1(s)"
   ]
  },
  {
   "cell_type": "code",
   "execution_count": 55,
   "id": "b7af6a2c",
   "metadata": {},
   "outputs": [],
   "source": [
    "from collections import defaultdict\n",
    "\n",
    "def max_char2(s):\n",
    "    \n",
    "    chars = defaultdict(int)\n",
    "    \n",
    "    for c in s:\n",
    "        chars[c] += 1\n",
    "    \n",
    "    return max(chars, key=chars.get)"
   ]
  },
  {
   "cell_type": "code",
   "execution_count": 58,
   "id": "07890f5e",
   "metadata": {},
   "outputs": [
    {
     "data": {
      "text/plain": [
       "'1'"
      ]
     },
     "execution_count": 58,
     "metadata": {},
     "output_type": "execute_result"
    }
   ],
   "source": [
    "max_char2(s)"
   ]
  },
  {
   "cell_type": "markdown",
   "id": "4604d29b",
   "metadata": {},
   "source": [
    "# FizzBuzz"
   ]
  },
  {
   "cell_type": "code",
   "execution_count": 100,
   "id": "2086bf5f",
   "metadata": {},
   "outputs": [],
   "source": [
    "def fizzbuzz(n):\n",
    "    for i in range(1, n + 1):\n",
    "        fizz = i % 3 == 0\n",
    "        buzz = i % 5 == 0\n",
    "        \n",
    "        if fizz and buzz:\n",
    "            print('fizzbuzz')\n",
    "        elif fizz:\n",
    "            print('fizz')\n",
    "        elif buzz:\n",
    "            print('buzz')\n",
    "        else:\n",
    "            print(i)"
   ]
  },
  {
   "cell_type": "code",
   "execution_count": 101,
   "id": "be7bcacc",
   "metadata": {},
   "outputs": [
    {
     "name": "stdout",
     "output_type": "stream",
     "text": [
      "1\n",
      "2\n",
      "fizz\n",
      "4\n",
      "buzz\n",
      "fizz\n",
      "7\n",
      "8\n",
      "fizz\n",
      "buzz\n",
      "11\n",
      "fizz\n",
      "13\n",
      "14\n",
      "fizzbuzz\n"
     ]
    }
   ],
   "source": [
    "fizzbuzz(15)"
   ]
  },
  {
   "cell_type": "markdown",
   "id": "80f022a8",
   "metadata": {},
   "source": [
    "# Array Chunking"
   ]
  },
  {
   "cell_type": "code",
   "execution_count": 55,
   "id": "6b6c5f1e",
   "metadata": {},
   "outputs": [],
   "source": [
    "l = [1, 2, 3, 4, 5, 6, 7, 8, 9, 10]\n",
    "n = 3"
   ]
  },
  {
   "cell_type": "code",
   "execution_count": 38,
   "id": "1207e5c9",
   "metadata": {},
   "outputs": [],
   "source": [
    "def chunk1(lst, n):    \n",
    "    return [lst[i:i + n] for i in range(0, len(lst), n)]\n",
    "    "
   ]
  },
  {
   "cell_type": "code",
   "execution_count": 39,
   "id": "3bb9f181",
   "metadata": {},
   "outputs": [],
   "source": [
    "def chunk2(lst, n):\n",
    "    for i in range(0, len(lst), n):\n",
    "        yield lst[i: i + n]"
   ]
  },
  {
   "cell_type": "code",
   "execution_count": 53,
   "id": "c3fc6867",
   "metadata": {},
   "outputs": [],
   "source": [
    "def chunk3(lst, n):\n",
    "    chunked = [];\n",
    "    index = 0;\n",
    "    \n",
    "    while index < len(lst):\n",
    "        chunked.append(lst[index: index + n])\n",
    "        index += n\n",
    "    return chunked"
   ]
  },
  {
   "cell_type": "code",
   "execution_count": 56,
   "id": "2f84ce78",
   "metadata": {},
   "outputs": [
    {
     "data": {
      "text/plain": [
       "[[1, 2, 3], [4, 5, 6], [7, 8, 9], [10]]"
      ]
     },
     "execution_count": 56,
     "metadata": {},
     "output_type": "execute_result"
    }
   ],
   "source": [
    "chunk3(l, n)"
   ]
  },
  {
   "cell_type": "code",
   "execution_count": 42,
   "id": "1b608d0b",
   "metadata": {
    "scrolled": true
   },
   "outputs": [
    {
     "data": {
      "text/plain": [
       "[[1, 2], [3, 4], [5, 332], [32]]"
      ]
     },
     "execution_count": 42,
     "metadata": {},
     "output_type": "execute_result"
    }
   ],
   "source": [
    "list(chunk2([1, 2, 3, 4, 5, 332, 32], 2))"
   ]
  }
 ],
 "metadata": {
  "kernelspec": {
   "display_name": "Python 3 (ipykernel)",
   "language": "python",
   "name": "python3"
  },
  "language_info": {
   "codemirror_mode": {
    "name": "ipython",
    "version": 3
   },
   "file_extension": ".py",
   "mimetype": "text/x-python",
   "name": "python",
   "nbconvert_exporter": "python",
   "pygments_lexer": "ipython3",
   "version": "3.8.9"
  }
 },
 "nbformat": 4,
 "nbformat_minor": 5
}
